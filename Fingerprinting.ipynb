{
 "cells": [
  {
   "cell_type": "markdown",
   "metadata": {},
   "source": [
    "# 4. Fingerprinting\n",
    " * Working with (relatively distributed) local spectrogtram maxima\n",
    " * Create pairs of features\n",
    "  * pick \"neighboring\" points\n",
    "  * $(f_1, f_2, t_2-t_1), t_1\\\\ (f_1, f_3, t_3-t_1), t_1\\\\ \\vdots \\\\ n_{fanout}$\n",
    " * Create **database** dictionary\n",
    "  * $(f_n, f_{n+1}, t_{n+1}-t_n) \\to (song\\_id, t_{fingerprint})$"
   ]
  },
  {
   "cell_type": "markdown",
   "metadata": {},
   "source": [
    "### At runtime:\n",
    " * Analyze sample\n",
    " * Look up fingerprints in database\n",
    " * Count the number of same offsets in same song\n",
    "\n",
    "song | $\\Delta$ t | matches\n",
    "--- | --- | ---\n",
    "song_1 | 29 | 150\n",
    "song_2 | 3 | 10\n",
    "song_2 | 1 | 3\n",
    "\n",
    " * Choose the top match"
   ]
  },
  {
   "cell_type": "code",
   "execution_count": 5,
   "metadata": {},
   "outputs": [],
   "source": [
    "import numpy as np\n",
    "import matplotlib.pyplot as plt\n",
    "\n",
    "from fingerprinting import fingerprints, add_to_dict "
   ]
  },
  {
   "cell_type": "code",
   "execution_count": 6,
   "metadata": {},
   "outputs": [
    {
     "data": {
      "text/plain": [
<<<<<<< HEAD
       "<matplotlib.image.AxesImage at 0x10768c908>"
=======
       "<matplotlib.image.AxesImage at 0x19d51c6710>"
>>>>>>> 840bbdbfbba1363673e9785dba1cc02ecc637274
      ]
     },
     "execution_count": 6,
     "metadata": {},
     "output_type": "execute_result"
    },
    {
     "data": {
<<<<<<< HEAD
      "image/png": "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\n",
      "text/plain": [
       "<matplotlib.figure.Figure at 0x10768c828>"
=======
      "image/png": "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\n",
      "text/plain": [
       "<matplotlib.figure.Figure at 0x19d51c6668>"
>>>>>>> 840bbdbfbba1363673e9785dba1cc02ecc637274
      ]
     },
     "metadata": {},
     "output_type": "display_data"
    }
   ],
   "source": [
    "# Dummy peak array\n",
    "spec = np.random.random((50, 25)) > 0.98\n",
    "\n",
    "\n",
    "fig, ax = plt.subplots()\n",
    "ax.imshow(spec)"
   ]
  },
  {
   "cell_type": "code",
   "execution_count": 20,
   "metadata": {},
   "outputs": [],
   "source": [
    "fff = fingerprints(spec)\n",
    "\n"
   ]
  },
  {
   "cell_type": "code",
   "execution_count": 78,
   "metadata": {},
   "outputs": [],
   "source": [
    "from collections import Counter\n",
    "\n",
    "def search_database(dic, fingerpairs,min_matches = 50):\n",
    "    \n",
    "    '''\n",
    "    INPUTS\n",
    "\n",
    "        dic:   dictionary with (f_n+1, f_n, f_n+1-t_n): [(song_name, t_n)...]\n",
    "\n",
    "        fingerpairs:     [(f_n+1, f_n, f_n+1-t_n), t_n] x N\n",
    "        \n",
    "        min_matches:     minimum number of matches for the top song to be confirmed as the match\n",
    "\n",
    "    OUTPUTS\n",
    "    \n",
    "        name of the song with the most matches\n",
    "        OR -1 if no single song fulfills the number of min_match\n",
    "    '''\n",
    "    \n",
    "    cnt = Counter()\n",
    "    for fpair in fingerpairs:\n",
    "        if fpair[0] in dic:\n",
    "            for songname, t in dic[fpair[0]]:\n",
    "              #  print(fpair[1])\n",
    "              #  print(obj1)\n",
    "                #print(obj[1].type)\n",
    "                offset = fpair[1]-t\n",
    "                cnt[(songname, offset)]+=1\n",
    "        else: continue\n",
    "    song = cnt.most_common(1)\n",
    "    if cnt.most_common(1)[1] > min_matches:\n",
    "        return cnt.most_common(1)[0][0][0] \n",
    "    else: return -1"
   ]
  },
  {
   "cell_type": "code",
   "execution_count": 79,
   "metadata": {},
   "outputs": [
    {
<<<<<<< HEAD
     "name": "stdout",
     "output_type": "stream",
     "text": [
      "('despacito', 0)\n"
     ]
    }
   ],
   "source": [
    "#print(fff)\n",
    "\n",
    "dict = {(4,12,0): [('despacito',1),('crazy',18)], (4,11,0): [('craz',11)],(37,45,0): [('despacito',18)],(10,36,2): [('desp',10)],(16,36,1): [('despa',10)],(12,14,0): [('despac',10)]}\n",
    "print(search_database(dict,fff))\n"
=======
     "data": {
      "text/plain": [
       "(140, 2)"
      ]
     },
     "execution_count": 3,
     "metadata": {},
     "output_type": "execute_result"
    }
   ],
   "source": [
    "fings = fingerprints(spec)\n",
    "fings.shape"
   ]
  },
  {
   "cell_type": "code",
   "execution_count": 4,
   "metadata": {},
   "outputs": [
    {
     "data": {
      "text/plain": [
       "138"
      ]
     },
     "execution_count": 4,
     "metadata": {},
     "output_type": "execute_result"
    }
   ],
   "source": [
    "diction = {}\n",
    "len(add_to_dict(diction, fings, 0))"
>>>>>>> 840bbdbfbba1363673e9785dba1cc02ecc637274
   ]
  },
  {
   "cell_type": "code",
   "execution_count": null,
   "metadata": {},
   "outputs": [],
   "source": []
  },
  {
   "cell_type": "code",
   "execution_count": null,
   "metadata": {},
   "outputs": [],
   "source": []
  },
  {
   "cell_type": "code",
   "execution_count": null,
   "metadata": {},
   "outputs": [],
   "source": []
  },
  {
   "cell_type": "code",
   "execution_count": null,
   "metadata": {},
   "outputs": [],
   "source": []
  },
  {
   "cell_type": "code",
   "execution_count": null,
   "metadata": {},
   "outputs": [],
   "source": []
  }
 ],
 "metadata": {
  "kernelspec": {
   "display_name": "Python 3",
   "language": "python",
   "name": "python3"
  },
  "language_info": {
   "codemirror_mode": {
    "name": "ipython",
    "version": 3
   },
   "file_extension": ".py",
   "mimetype": "text/x-python",
   "name": "python",
   "nbconvert_exporter": "python",
   "pygments_lexer": "ipython3",
   "version": "3.6.4"
  }
 },
 "nbformat": 4,
 "nbformat_minor": 2
}
