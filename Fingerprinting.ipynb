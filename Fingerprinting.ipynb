{
 "cells": [
  {
   "cell_type": "markdown",
   "metadata": {},
   "source": [
    "# 4. Fingerprinting\n",
    " * Working with (relatively distributed) local spectrogtram maxima\n",
    " * Create pairs of features\n",
    "  * pick \"neighboring\" points\n",
    "  * $(f_1, f_2, t_2-t_1), t_1\\\\ (f_1, f_3, t_3-t_1), t_1\\\\ \\vdots \\\\ n_{fanout}$\n",
    " * Create **database** dictionary\n",
    "  * $(f_n, f_{n+1}, t_{n+1}-t_n) \\to (song\\_id, t_{fingerprint})$"
   ]
  },
  {
   "cell_type": "markdown",
   "metadata": {},
   "source": [
    "### At runtime:\n",
    " * Analyze sample\n",
    " * Look up fingerprints in database\n",
    " * Count the number of same offsets in same song\n",
    "\n",
    "song | $\\Delta$ t | matches\n",
    "--- | --- | ---\n",
    "song_1 | 29 | 150\n",
    "song_2 | 3 | 10\n",
    "song_2 | 1 | 3\n",
    "\n",
    " * Choose the top match"
   ]
  },
  {
   "cell_type": "code",
   "execution_count": 5,
   "metadata": {},
   "outputs": [],
   "source": [
    "import numpy as np\n",
    "import matplotlib.pyplot as plt\n",
    "\n",
    "from fingerprinting import fingerprints"
   ]
  },
  {
   "cell_type": "code",
   "execution_count": 6,
   "metadata": {},
   "outputs": [
    {
     "data": {
      "text/plain": [
       "<matplotlib.image.AxesImage at 0x10768c908>"
      ]
     },
     "execution_count": 6,
     "metadata": {},
     "output_type": "execute_result"
    },
    {
     "data": {
      "image/png": "[encoded data removed]",
      "text/plain": [
       "<matplotlib.figure.Figure at 0x10768c828>"
      ]
     },
     "metadata": {},
     "output_type": "display_data"
    }
   ],
   "source": [
    "# Dummy peak array\n",
    "spec = np.random.random((50, 25)) > 0.98\n",
    "\n",
    "\n",
    "fig, ax = plt.subplots()\n",
    "ax.imshow(spec)"
   ]
  },
  {
   "cell_type": "code",
   "execution_count": 20,
   "metadata": {},
   "outputs": [],
   "source": [
    "fff = fingerprints(spec)\n",
    "\n"
   ]
  },
  {
   "cell_type": "code",
   "execution_count": 78,
   "metadata": {},
   "outputs": [],
   "source": [
    "from collections import Counter\n",
    "\n",
    "def search_database(dic, fingerpairs,min_matches = 50):\n",
    "    \n",
    "    '''\n",
    "    INPUTS\n",
    "\n",
    "        dic:   dictionary with (f_n+1, f_n, f_n+1-t_n): [(song_name, t_n)...]\n",
    "\n",
    "        fingerpairs:     [(f_n+1, f_n, f_n+1-t_n), t_n] x N\n",
    "        \n",
    "        min_matches:     minimum number of matches for the top song to be confirmed as the match\n",
    "\n",
    "    OUTPUTS\n",
    "    \n",
    "        name of the song with the most matches\n",
    "        OR -1 if no single song fulfills the number of min_match\n",
    "    '''\n",
    "    \n",
    "    cnt = Counter()\n",
    "    for fpair in fingerpairs:\n",
    "        if fpair[0] in dic:\n",
    "            for songname, t in dic[fpair[0]]:\n",
    "              #  print(fpair[1])\n",
    "              #  print(obj1)\n",
    "                #print(obj[1].type)\n",
    "                offset = fpair[1]-t\n",
    "                cnt[(songname, offset)]+=1\n",
    "        else: continue\n",
    "    song = cnt.most_common(1)\n",
    "    if cnt.most_common(1)[1] > min_matches:\n",
    "        return cnt.most_common(1)[0][0][0] \n",
    "    else: return -1"
   ]
  },
  {
   "cell_type": "code",
   "execution_count": 79,
   "metadata": {},
   "outputs": [
    {
     "name": "stdout",
     "output_type": "stream",
     "text": [
      "('despacito', 0)\n"
     ]
    }
   ],
   "source": [
    "#print(fff)\n",
    "\n",
    "dict = {(4,12,0): [('despacito',1),('crazy',18)], (4,11,0): [('craz',11)],(37,45,0): [('despacito',18)],(10,36,2): [('desp',10)],(16,36,1): [('despa',10)],(12,14,0): [('despac',10)]}\n",
    "print(search_database(dict,fff))\n"
   ]
  },
  {
   "cell_type": "code",
   "execution_count": null,
   "metadata": {},
   "outputs": [],
   "source": []
  },
  {
   "cell_type": "code",
   "execution_count": null,
   "metadata": {},
   "outputs": [],
   "source": []
  },
  {
   "cell_type": "code",
   "execution_count": null,
   "metadata": {},
   "outputs": [],
   "source": []
  },
  {
   "cell_type": "code",
   "execution_count": null,
   "metadata": {},
   "outputs": [],
   "source": []
  },
  {
   "cell_type": "code",
   "execution_count": null,
   "metadata": {},
   "outputs": [],
   "source": []
  }
 ],
 "metadata": {
  "kernelspec": {
   "display_name": "Python 3",
   "language": "python",
   "name": "python3"
  },
  "language_info": {
   "codemirror_mode": {
    "name": "ipython",
    "version": 3
   },
   "file_extension": ".py",
   "mimetype": "text/x-python",
   "name": "python",
   "nbconvert_exporter": "python",
   "pygments_lexer": "ipython3",
   "version": "3.6.4"
  }
 },
 "nbformat": 4,
 "nbformat_minor": 2
}
