{
 "cells": [
  {
   "cell_type": "markdown",
   "metadata": {},
   "source": [
    "# 4. Fingerprinting\n",
    " * Working with (relatively distributed) local spectrogtram maxima\n",
    " * Create pairs of features\n",
    "  * pick \"neighboring\" points\n",
    "  * $(f_1, f_2, t_2-t_1), t_1\\\\ (f_1, f_3, t_3-t_1), t_1\\\\ \\vdots \\\\ n_{fanout}$\n",
    " * Create **database** dictionary\n",
    "  * $(f_n, f_{n+1}, t_{n+1}-t_n) \\to (song\\_id, t_{fingerprint})$"
   ]
  },
  {
   "cell_type": "markdown",
   "metadata": {},
   "source": [
    "### At runtime:\n",
    " * Analyze sample\n",
    " * Look up fingerprints in database\n",
    " * Count the number of same offsets in same song\n",
    "\n",
    "song | $\\Delta$ t | matches\n",
    "--- | --- | ---\n",
    "song_1 | 29 | 150\n",
    "song_2 | 3 | 10\n",
    "song_2 | 1 | 3\n",
    "\n",
    " * Choose the top match"
   ]
  },
  {
   "cell_type": "code",
   "execution_count": 1,
   "metadata": {},
   "outputs": [],
   "source": [
    "import numpy as np\n",
    "import matplotlib.pyplot as plt\n",
    "\n",
    "from fingerprinting import fingerprints"
   ]
  },
  {
   "cell_type": "code",
   "execution_count": 2,
   "metadata": {},
   "outputs": [
    {
     "data": {
      "text/plain": [
       "<matplotlib.image.AxesImage at 0x330438b518>"
      ]
     },
     "execution_count": 2,
     "metadata": {},
     "output_type": "execute_result"
    },
    {
     "data": {
      "image/png": "[encoded data removed]",
      "text/plain": [
       "<matplotlib.figure.Figure at 0x330438b470>"
      ]
     },
     "metadata": {},
     "output_type": "display_data"
    }
   ],
   "source": [
    "# Dummy peak array\n",
    "spec = np.random.random((50, 25)) > 0.98\n",
    "\n",
    "fig, ax = plt.subplots()\n",
    "ax.imshow(spec)"
   ]
  },
  {
   "cell_type": "code",
   "execution_count": 3,
   "metadata": {},
   "outputs": [
    {
     "data": {
      "text/plain": [
       "(115, 2)"
      ]
     },
     "execution_count": 3,
     "metadata": {},
     "output_type": "execute_result"
    }
   ],
   "source": [
    "fingerprints(spec).shape"
   ]
  }
 ],
 "metadata": {
  "kernelspec": {
   "display_name": "Python 3",
   "language": "python",
   "name": "python3"
  },
  "language_info": {
   "codemirror_mode": {
    "name": "ipython",
    "version": 3
   },
   "file_extension": ".py",
   "mimetype": "text/x-python",
   "name": "python",
   "nbconvert_exporter": "python",
   "pygments_lexer": "ipython3",
   "version": "3.6.0"
  }
 },
 "nbformat": 4,
 "nbformat_minor": 2
}
