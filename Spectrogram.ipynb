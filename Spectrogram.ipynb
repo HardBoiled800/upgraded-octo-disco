{
 "cells": [
  {
   "cell_type": "code",
   "execution_count": 3,
   "metadata": {},
   "outputs": [],
   "source": [
    "import microphone\n",
    "import numpy as np\n",
    "%matplotlib notebook\n",
    "import matplotlib.pyplot as plt\n",
    "import matplotlib.mlab as mlab\n",
    "from microphone import record_audio\n",
    "from IPython.display import Audio\n",
    "from scipy import signal"
   ]
  },
  {
   "cell_type": "code",
   "execution_count": 21,
   "metadata": {},
   "outputs": [],
   "source": [
    "def create_spectrogram(audio_file, sampling_rate = 44100):\n",
    "    \"\"\" Given bytes from an audio recording, returns the spectrogram\n",
    "    \n",
    "        Parameters\n",
    "        ----------\n",
    "        audio_file: numpy.ndarray, length N\n",
    "        \n",
    "        sampling_rate: int, rate at which audio was sampled\n",
    "        \n",
    "        \n",
    "        Returns\n",
    "        -------\n",
    "        S: numpy.ndarray, shape = (N,M)\n",
    "            int spectrogram array\"\"\"\n",
    "\n",
    "    #print(audio_file)\n",
    "    S, freqs, times = mlab.specgram(audio_file, NFFT=4096, Fs=sampling_rate,window=mlab.window_hanning,noverlap=2048)\n",
    "    \n",
    "    #print(S.shape)\n",
    "    return S\n"
   ]
  },
  {
   "cell_type": "code",
   "execution_count": 23,
   "metadata": {},
   "outputs": [],
   "source": [
    "def mic_audio(dur):\n",
    "    \"\"\" Given duration for audio recording, records for that time and converts to digital audio signal.\n",
    "    \n",
    "        Parameters\n",
    "        ----------\n",
    "        dur: int, duration for recording\n",
    "        \n",
    "        \n",
    "        Returns\n",
    "        -------\n",
    "        S: numpy.ndarray, shape = (N,M)\n",
    "            int spectrogram array\"\"\"\n",
    "\n",
    "    audio,b = microphone.record_audio(dur)\n",
    "    audio = np.hstack([np.frombuffer(i,np.int16) for i in audio])\n",
    "    return audio"
   ]
  },
  {
   "cell_type": "code",
   "execution_count": 24,
   "metadata": {},
   "outputs": [
    {
     "name": "stdout",
     "output_type": "stream",
     "text": [
      "Using input device 'Built-in Microphone'\n",
      "Recording ended\n"
     ]
    },
    {
     "data": {
      "text/plain": [
       "array([-487, -564, -531, ..., 3991, 4203, 4357], dtype=int16)"
      ]
     },
     "execution_count": 24,
     "metadata": {},
     "output_type": "execute_result"
    }
   ],
   "source": []
  },
  {
   "cell_type": "code",
   "execution_count": null,
   "metadata": {},
   "outputs": [],
   "source": []
  }
 ],
 "metadata": {
  "kernelspec": {
   "display_name": "Python 3",
   "language": "python",
   "name": "python3"
  },
  "language_info": {
   "codemirror_mode": {
    "name": "ipython",
    "version": 3
   },
   "file_extension": ".py",
   "mimetype": "text/x-python",
   "name": "python",
   "nbconvert_exporter": "python",
   "pygments_lexer": "ipython3",
   "version": "3.6.4"
  }
 },
 "nbformat": 4,
 "nbformat_minor": 2
}
